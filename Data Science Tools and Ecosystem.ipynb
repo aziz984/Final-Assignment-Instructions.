{
 "cells": [
  {
   "cell_type": "markdown",
   "id": "cb5ac687-3ba0-493b-9b08-953a9c73c13a",
   "metadata": {},
   "source": [
    "# Data Science Tools and Ecosystem #"
   ]
  },
  {
   "cell_type": "markdown",
   "id": "b69959ef-ee47-4f15-8ad5-55f854e4d935",
   "metadata": {},
   "source": [
    "#### In this notebook, Data Science Tools and Ecosystem are summarized ####"
   ]
  },
  {
   "cell_type": "markdown",
   "id": "1c0db7ca-5652-43d9-84e4-1b9fdac2a25e",
   "metadata": {},
   "source": [
    "Objectives:<br>\n",
    " * Describe the components of a Data Scientist's toolkit and list various tool categories.\n",
    "- List examples of open-source tools used in data science.\n",
    "- Describe the relevant features of open-source tools.\n"
   ]
  },
  {
   "cell_type": "markdown",
   "id": "984a7c40-9791-42e7-881e-8eeb62af11f6",
   "metadata": {},
   "source": [
    " ##### Some of the popular languages that Data Scientists use are:"
   ]
  },
  {
   "cell_type": "markdown",
   "id": "063db0aa-7e68-4fee-ac52-a6683300260f",
   "metadata": {},
   "source": [
    "1. python \n",
    "2.  R\n",
    "3.  Julia"
   ]
  },
  {
   "cell_type": "markdown",
   "id": "5e95ac46-2ba6-4bda-8090-6bec6d13d83e",
   "metadata": {},
   "source": [
    " ##### Some of the commonly used libraries used by Data Scientists include:\n"
   ]
  },
  {
   "cell_type": "markdown",
   "id": "ca5a9cd4-0e4c-42d2-ab44-27c2b359bf40",
   "metadata": {},
   "source": [
    "1. Pandas\n",
    "2. Numpy\n",
    "3. Scikit-learn"
   ]
  },
  {
   "cell_type": "markdown",
   "id": "eb156043-cc3a-45c3-9bd3-84a5215719f0",
   "metadata": {},
   "source": [
    "##### Data Science Tools:"
   ]
  },
  {
   "cell_type": "markdown",
   "id": "390213fd-3262-4da4-9b7e-3b19e81bac5e",
   "metadata": {},
   "source": [
    "| Data Science Tools |\n",
    "| -------------------|\n",
    "| odpi fgeria |\n",
    "| apache atlas|\n",
    "| kyli |"
   ]
  },
  {
   "cell_type": "markdown",
   "id": "ec8062ec-3da3-4183-af8e-4272dee95469",
   "metadata": {},
   "source": [
    "### Below are a few examples of evaluating arithmetic expressions in Python"
   ]
  },
  {
   "cell_type": "markdown",
   "id": "eef97bc3-7195-44e2-aefc-edf31bbda9c7",
   "metadata": {},
   "source": [
    "This equation is solved (3*4)+5 by a code cell"
   ]
  },
  {
   "cell_type": "code",
   "execution_count": 27,
   "id": "e3ea4dcd-d17d-4d36-8e8a-913769f92cee",
   "metadata": {},
   "outputs": [
    {
     "data": {
      "text/plain": [
       "17"
      ]
     },
     "execution_count": 27,
     "metadata": {},
     "output_type": "execute_result"
    }
   ],
   "source": [
    "(3*4)+5"
   ]
  },
  {
   "cell_type": "markdown",
   "id": "33149c6a-32af-4e0e-acdd-8e6821cdec70",
   "metadata": {},
   "source": [
    "This will convert 200 minutes to hours by diving by 60 :"
   ]
  },
  {
   "cell_type": "code",
   "execution_count": 34,
   "id": "ff0db869-a9fc-4063-843c-578742c47937",
   "metadata": {},
   "outputs": [
    {
     "data": {
      "text/plain": [
       "66.66666666666667"
      ]
     },
     "execution_count": 34,
     "metadata": {},
     "output_type": "execute_result"
    }
   ],
   "source": [
    "200/3"
   ]
  },
  {
   "cell_type": "markdown",
   "id": "50870e10-c3f0-41aa-904b-d53228d5309d",
   "metadata": {},
   "source": [
    "## Author:"
   ]
  },
  {
   "cell_type": "markdown",
   "id": "532cceb0-1d6f-410c-88f5-ee38728dbc68",
   "metadata": {},
   "source": [
    "abdalaziz alsahil"
   ]
  },
  {
   "cell_type": "code",
   "execution_count": null,
   "id": "682900ed-9644-4e22-be8e-42e90b146c61",
   "metadata": {},
   "outputs": [],
   "source": []
  }
 ],
 "metadata": {
  "kernelspec": {
   "display_name": "anaconda-panel-2023.05-py310",
   "language": "python",
   "name": "conda-env-anaconda-panel-2023.05-py310-py"
  },
  "language_info": {
   "codemirror_mode": {
    "name": "ipython",
    "version": 3
   },
   "file_extension": ".py",
   "mimetype": "text/x-python",
   "name": "python",
   "nbconvert_exporter": "python",
   "pygments_lexer": "ipython3",
   "version": "3.11.5"
  }
 },
 "nbformat": 4,
 "nbformat_minor": 5
}
